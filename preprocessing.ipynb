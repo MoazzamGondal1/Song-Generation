{
 "cells": [
  {
   "cell_type": "code",
   "execution_count": 40,
   "metadata": {},
   "outputs": [],
   "source": [
    "import pandas as pd"
   ]
  },
  {
   "cell_type": "code",
   "execution_count": 41,
   "metadata": {},
   "outputs": [
    {
     "name": "stdout",
     "output_type": "stream",
     "text": [
      "<class 'pandas.core.frame.DataFrame'>\n",
      "RangeIndex: 700 entries, 0 to 699\n",
      "Data columns (total 4 columns):\n",
      " #   Column      Non-Null Count  Dtype \n",
      "---  ------      --------------  ----- \n",
      " 0   Artist      700 non-null    object\n",
      " 1   Song Title  700 non-null    object\n",
      " 2   Genre       700 non-null    object\n",
      " 3   Lyrics      648 non-null    object\n",
      "dtypes: object(4)\n",
      "memory usage: 22.0+ KB\n"
     ]
    },
    {
     "data": {
      "text/html": [
       "<div>\n",
       "<style scoped>\n",
       "    .dataframe tbody tr th:only-of-type {\n",
       "        vertical-align: middle;\n",
       "    }\n",
       "\n",
       "    .dataframe tbody tr th {\n",
       "        vertical-align: top;\n",
       "    }\n",
       "\n",
       "    .dataframe thead th {\n",
       "        text-align: right;\n",
       "    }\n",
       "</style>\n",
       "<table border=\"1\" class=\"dataframe\">\n",
       "  <thead>\n",
       "    <tr style=\"text-align: right;\">\n",
       "      <th></th>\n",
       "      <th>Artist</th>\n",
       "      <th>Song Title</th>\n",
       "      <th>Genre</th>\n",
       "      <th>Lyrics</th>\n",
       "    </tr>\n",
       "  </thead>\n",
       "  <tbody>\n",
       "    <tr>\n",
       "      <th>count</th>\n",
       "      <td>700</td>\n",
       "      <td>700</td>\n",
       "      <td>700</td>\n",
       "      <td>648</td>\n",
       "    </tr>\n",
       "    <tr>\n",
       "      <th>unique</th>\n",
       "      <td>14</td>\n",
       "      <td>585</td>\n",
       "      <td>35</td>\n",
       "      <td>523</td>\n",
       "    </tr>\n",
       "    <tr>\n",
       "      <th>top</th>\n",
       "      <td>Eminem</td>\n",
       "      <td>Love</td>\n",
       "      <td>Hip Hop</td>\n",
       "      <td>I've been reading books of old\\nThe legends an...</td>\n",
       "    </tr>\n",
       "    <tr>\n",
       "      <th>freq</th>\n",
       "      <td>99</td>\n",
       "      <td>3</td>\n",
       "      <td>214</td>\n",
       "      <td>5</td>\n",
       "    </tr>\n",
       "  </tbody>\n",
       "</table>\n",
       "</div>"
      ],
      "text/plain": [
       "        Artist Song Title    Genre  \\\n",
       "count      700        700      700   \n",
       "unique      14        585       35   \n",
       "top     Eminem       Love  Hip Hop   \n",
       "freq        99          3      214   \n",
       "\n",
       "                                                   Lyrics  \n",
       "count                                                 648  \n",
       "unique                                                523  \n",
       "top     I've been reading books of old\\nThe legends an...  \n",
       "freq                                                    5  "
      ]
     },
     "execution_count": 41,
     "metadata": {},
     "output_type": "execute_result"
    }
   ],
   "source": [
    "data = pd.read_csv(\"SongsData.csv\")\n",
    "data.info()\n",
    "data.describe()"
   ]
  },
  {
   "cell_type": "markdown",
   "metadata": {},
   "source": [
    "# Count of All Genres"
   ]
  },
  {
   "cell_type": "code",
   "execution_count": 42,
   "metadata": {},
   "outputs": [
    {
     "data": {
      "text/plain": [
       "Genre\n",
       "Hip Hop              214\n",
       "Pop                  192\n",
       "Alternative           80\n",
       "Rap                   36\n",
       "Rock                  36\n",
       "Holiday               19\n",
       "Dirty South           18\n",
       "R&B                   17\n",
       "West Coast Rap        16\n",
       "Gospel                16\n",
       "Electronic             7\n",
       "Adult Alternative      5\n",
       "Alternative Rap        5\n",
       "Hardcore Rap           4\n",
       "Soundtrack             4\n",
       "Arena Rock             3\n",
       "British Invasion       3\n",
       "Indie Rock             2\n",
       "Latin                  2\n",
       "Spoken Word            2\n",
       "Downtempo              2\n",
       "College Rock           2\n",
       "Soft Rock              2\n",
       "Salsa y Tropical       2\n",
       "Psychedelic            1\n",
       "Electronica            1\n",
       "Disco                  1\n",
       "Hard Rock              1\n",
       "Blues                  1\n",
       "Rock & Roll            1\n",
       "Folk-Rock              1\n",
       "French Pop             1\n",
       "Roots Rock             1\n",
       "Contemporary R&B       1\n",
       "Soul                   1\n",
       "Name: count, dtype: int64"
      ]
     },
     "execution_count": 42,
     "metadata": {},
     "output_type": "execute_result"
    }
   ],
   "source": [
    "count_genres = data['Genre'].value_counts()\n",
    "count_genres"
   ]
  },
  {
   "cell_type": "markdown",
   "metadata": {},
   "source": [
    "# Categorizing Genres"
   ]
  },
  {
   "cell_type": "code",
   "execution_count": 43,
   "metadata": {},
   "outputs": [],
   "source": [
    "# Define a function to categorize genres\n",
    "def categorize_genre(genre):\n",
    "    hip_hop_genres = ['Hip Hop', 'Rap', 'Dirty South', 'West Coast Rap', 'Hardcore Rap', 'Alternative Rap']\n",
    "    rock_genres = ['Alternative', 'Rock', 'Arena Rock', 'British Invasion', 'Indie Rock', 'Psychedelic', 'Hard Rock', 'Rock & Roll', 'Folk-Rock', 'Roots Rock']\n",
    "    pop_genres = ['Pop', 'Holiday', 'Electronic', 'Adult Alternative', 'Soundtrack', 'College Rock', 'Soft Rock', 'Salsa y Tropical', 'Disco', 'French Pop', 'Contemporary R&B', 'Soul']\n",
    "\n",
    "    if genre in hip_hop_genres:\n",
    "        return 'Hip Hop'\n",
    "    elif genre in rock_genres:\n",
    "        return 'Rock'\n",
    "    elif genre in pop_genres:\n",
    "        return 'Pop'\n",
    "    else:\n",
    "        return 'None' \n",
    "\n",
    "# Apply the categorization function to the 'genre' column\n",
    "data['category'] = data['Genre'].apply(categorize_genre)\n"
   ]
  },
  {
   "cell_type": "code",
   "execution_count": 44,
   "metadata": {},
   "outputs": [
    {
     "data": {
      "text/plain": [
       "category\n",
       "Hip Hop    293\n",
       "Pop        237\n",
       "Rock       129\n",
       "None        41\n",
       "Name: count, dtype: int64"
      ]
     },
     "execution_count": 44,
     "metadata": {},
     "output_type": "execute_result"
    }
   ],
   "source": [
    "data['category'].value_counts()"
   ]
  }
 ],
 "metadata": {
  "kernelspec": {
   "display_name": "Python 3",
   "language": "python",
   "name": "python3"
  },
  "language_info": {
   "codemirror_mode": {
    "name": "ipython",
    "version": 3
   },
   "file_extension": ".py",
   "mimetype": "text/x-python",
   "name": "python",
   "nbconvert_exporter": "python",
   "pygments_lexer": "ipython3",
   "version": "3.10.6"
  }
 },
 "nbformat": 4,
 "nbformat_minor": 2
}
