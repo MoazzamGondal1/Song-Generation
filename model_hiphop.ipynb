{
 "cells": [
  {
   "cell_type": "code",
   "execution_count": 2,
   "metadata": {},
   "outputs": [
    {
     "name": "stderr",
     "output_type": "stream",
     "text": [
      "2023-12-04 01:30:19.217762: I external/local_tsl/tsl/cuda/cudart_stub.cc:31] Could not find cuda drivers on your machine, GPU will not be used.\n",
      "2023-12-04 01:30:19.826616: E external/local_xla/xla/stream_executor/cuda/cuda_dnn.cc:9261] Unable to register cuDNN factory: Attempting to register factory for plugin cuDNN when one has already been registered\n",
      "2023-12-04 01:30:19.826736: E external/local_xla/xla/stream_executor/cuda/cuda_fft.cc:607] Unable to register cuFFT factory: Attempting to register factory for plugin cuFFT when one has already been registered\n",
      "2023-12-04 01:30:19.940661: E external/local_xla/xla/stream_executor/cuda/cuda_blas.cc:1515] Unable to register cuBLAS factory: Attempting to register factory for plugin cuBLAS when one has already been registered\n",
      "2023-12-04 01:30:20.017748: I external/local_tsl/tsl/cuda/cudart_stub.cc:31] Could not find cuda drivers on your machine, GPU will not be used.\n",
      "2023-12-04 01:30:20.018741: I tensorflow/core/platform/cpu_feature_guard.cc:182] This TensorFlow binary is optimized to use available CPU instructions in performance-critical operations.\n",
      "To enable the following instructions: AVX2 FMA, in other operations, rebuild TensorFlow with the appropriate compiler flags.\n",
      "2023-12-04 01:30:21.362796: W tensorflow/compiler/tf2tensorrt/utils/py_utils.cc:38] TF-TRT Warning: Could not find TensorRT\n"
     ]
    }
   ],
   "source": [
    "import tensorflow as tf\n",
    "from tensorflow.keras.preprocessing.text import Tokenizer\n",
    "from tensorflow.keras.preprocessing.sequence import pad_sequences\n",
    "from tensorflow.keras.models import Sequential, load_model\n",
    "from tensorflow.keras.layers import Embedding, LSTM, Dense, Bidirectional, Dropout, GRU\n",
    "from tensorflow.keras.optimizers import Adam"
   ]
  },
  {
   "cell_type": "code",
   "execution_count": 50,
   "metadata": {},
   "outputs": [
    {
     "name": "stderr",
     "output_type": "stream",
     "text": [
      "[nltk_data] Downloading package stopwords to\n",
      "[nltk_data]     /home/moazzam99/nltk_data...\n",
      "[nltk_data]   Package stopwords is already up-to-date!\n"
     ]
    }
   ],
   "source": [
    "import string\n",
    "from datetime import datetime\n",
    "import nltk\n",
    "from nltk.corpus import stopwords\n",
    "\n",
    "nltk.download('stopwords')\n",
    "\n",
    "def remove_stopwords(corpus):\n",
    "    stop_words = set(stopwords.words('english'))\n",
    "    filtered_corpus = []\n",
    "\n",
    "    for line in corpus:\n",
    "        words = line.split()\n",
    "        filtered_line = ' '.join([word for word in words if word.lower() not in stop_words])\n",
    "        filtered_corpus.append(filtered_line)\n",
    "\n",
    "    return filtered_corpus\n",
    "\n",
    "def tokenize_corpus(corpus, num_words=-1):\n",
    "  # Fit a Tokenizer on the corpus\n",
    "  \n",
    "  if num_words > -1:\n",
    "    tokenizer = Tokenizer(num_words=num_words)\n",
    "  else:\n",
    "    tokenizer = Tokenizer()\n",
    "  tokenizer.fit_on_texts(corpus)\n",
    "  return tokenizer\n",
    "\n",
    "def create_lyrics_corpus(dataset, field):\n",
    "  # Remove all other punctuation\n",
    "  dataset[field] = dataset[field].str.replace('[{}]'.format(string.punctuation), '')\n",
    "  # Make it lowercase\n",
    "  dataset[field] = dataset[field].str.lower()\n",
    "  # Make it one long string to split by line\n",
    "  lyrics = dataset[field].str.cat()\n",
    "  corpus = lyrics.split('\\n')\n",
    "  # Remove any trailing whitespace\n",
    "  for l in range(len(corpus)):\n",
    "    corpus[l] = corpus[l].rstrip()\n",
    "  # Remove any empty lines\n",
    "  corpus = [l for l in corpus if l != '']\n",
    "\n",
    "  corpus = remove_stopwords(corpus)\n",
    "\n",
    "  return corpus\n",
    "\n",
    "def get_time():\n",
    "  # Get the current date and time\n",
    "  current_datetime = datetime.now()\n",
    "\n",
    "  formatted_datetime = current_datetime.strftime(\"%Y-%m-%d_%H%M\")\n",
    "\n",
    "  return formatted_datetime"
   ]
  },
  {
   "cell_type": "markdown",
   "metadata": {},
   "source": [
    "# Selecting 100 hip hop songs randomly"
   ]
  },
  {
   "cell_type": "code",
   "execution_count": 144,
   "metadata": {},
   "outputs": [
    {
     "data": {
      "text/plain": [
       "Artist\n",
       "Imagine-Dragons    74\n",
       "The-Beatles        29\n",
       "Maroon-5           12\n",
       "Coldplay            3\n",
       "Onerepublic         2\n",
       "Name: count, dtype: int64"
      ]
     },
     "execution_count": 144,
     "metadata": {},
     "output_type": "execute_result"
    }
   ],
   "source": [
    "import pandas as pd\n",
    "all_songs = pd.read_csv(\"SongsData_rock.csv\")\n",
    "random_songs_df = all_songs.sample(n=120, random_state=42)\n",
    "random_songs_df['Artist'].value_counts()"
   ]
  },
  {
   "cell_type": "markdown",
   "metadata": {},
   "source": [
    "# Tokeniziation and BoW"
   ]
  },
  {
   "cell_type": "code",
   "execution_count": 145,
   "metadata": {},
   "outputs": [
    {
     "name": "stdout",
     "output_type": "stream",
     "text": [
      "1492\n"
     ]
    }
   ],
   "source": [
    "corpus = create_lyrics_corpus(random_songs_df,\"Lyrics\")\n",
    "tokenizer = tokenize_corpus(corpus)\n",
    "total_words = len(tokenizer.word_index)+1\n",
    "print(total_words)"
   ]
  },
  {
   "cell_type": "markdown",
   "metadata": {},
   "source": [
    "# Generating Sequences to fit in Model"
   ]
  },
  {
   "cell_type": "code",
   "execution_count": 146,
   "metadata": {},
   "outputs": [],
   "source": [
    "sequences = []\n",
    "for line in corpus:\n",
    "\ttoken_list = tokenizer.texts_to_sequences([line])[0]\n",
    "\tfor i in range(1, len(token_list)):\n",
    "\t\tn_gram_sequence = token_list[:i+1]\n",
    "\t\tsequences.append(n_gram_sequence)"
   ]
  },
  {
   "cell_type": "code",
   "execution_count": 147,
   "metadata": {},
   "outputs": [
    {
     "name": "stdout",
     "output_type": "stream",
     "text": [
      "19\n"
     ]
    }
   ],
   "source": [
    "import numpy as np\n",
    "max_pad_len = max([len(seq) for seq in sequences])\n",
    "print(max_pad_len)\n",
    "padded_sequences = np.array(pad_sequences(sequences,maxlen=max_pad_len,truncating='post'))"
   ]
  },
  {
   "cell_type": "code",
   "execution_count": 148,
   "metadata": {},
   "outputs": [],
   "source": [
    "# Split sequences between the \"input\" sequence and \"output\" predicted word\n",
    "input_sequences, labels = padded_sequences[:,:-1], padded_sequences[:,-1]\n",
    "\n",
    "# One-hot encode the labels\n",
    "one_hot_labels = tf.keras.utils.to_categorical(labels, num_classes=total_words)"
   ]
  },
  {
   "cell_type": "markdown",
   "metadata": {},
   "source": [
    "# Model Architecture and Training"
   ]
  },
  {
   "cell_type": "code",
   "execution_count": 149,
   "metadata": {},
   "outputs": [
    {
     "name": "stdout",
     "output_type": "stream",
     "text": [
      "Epoch 1/10\n",
      "165/165 [==============================] - 6s 17ms/step - loss: 6.6696 - accuracy: 0.0402\n",
      "Epoch 2/10\n",
      "165/165 [==============================] - 3s 17ms/step - loss: 5.1518 - accuracy: 0.1667\n",
      "Epoch 3/10\n",
      "165/165 [==============================] - 3s 17ms/step - loss: 3.5490 - accuracy: 0.3376\n",
      "Epoch 4/10\n",
      "165/165 [==============================] - 3s 17ms/step - loss: 2.3650 - accuracy: 0.4915\n",
      "Epoch 5/10\n",
      "165/165 [==============================] - 3s 17ms/step - loss: 1.6159 - accuracy: 0.6284\n",
      "Epoch 6/10\n",
      "165/165 [==============================] - 3s 17ms/step - loss: 1.2234 - accuracy: 0.7104\n",
      "Epoch 7/10\n",
      "165/165 [==============================] - 3s 17ms/step - loss: 1.0010 - accuracy: 0.7522\n",
      "Epoch 8/10\n",
      "165/165 [==============================] - 3s 17ms/step - loss: 0.8903 - accuracy: 0.7675\n",
      "Epoch 9/10\n",
      "165/165 [==============================] - 3s 18ms/step - loss: 0.8423 - accuracy: 0.7707\n",
      "Epoch 10/10\n",
      "165/165 [==============================] - 3s 17ms/step - loss: 0.7940 - accuracy: 0.7768\n"
     ]
    }
   ],
   "source": [
    "model = Sequential()\n",
    "model.add(Embedding(total_words, 128, input_length=max_pad_len-1))\n",
    "#model.add(Bidirectional(LSTM(150, return_sequences=True)))\n",
    "model.add(Bidirectional(LSTM(100)))\n",
    "model.add(Dense(total_words, activation='softmax'))\n",
    "model.compile(loss='categorical_crossentropy', optimizer=Adam(learning_rate=0.01), metrics=['accuracy'])\n",
    "history = model.fit(input_sequences, one_hot_labels, epochs=10, verbose=1)"
   ]
  },
  {
   "cell_type": "markdown",
   "metadata": {},
   "source": [
    "# Saving and Reloading"
   ]
  },
  {
   "cell_type": "code",
   "execution_count": 155,
   "metadata": {},
   "outputs": [],
   "source": [
    "reload_model = load_model(\"hiphop_model_x1_2023-12-04_0106.h5\")"
   ]
  },
  {
   "cell_type": "code",
   "execution_count": 25,
   "metadata": {},
   "outputs": [
    {
     "name": "stdout",
     "output_type": "stream",
     "text": [
      "Epoch 1/20\n"
     ]
    },
    {
     "name": "stderr",
     "output_type": "stream",
     "text": [
      "2023-12-04 01:46:53.461684: W external/local_tsl/tsl/framework/cpu_allocator_impl.cc:83] Allocation of 182166192 exceeds 10% of free system memory.\n"
     ]
    },
    {
     "name": "stdout",
     "output_type": "stream",
     "text": [
      "486/486 [==============================] - 33s 65ms/step - loss: 2.5792 - accuracy: 0.4169\n",
      "Epoch 2/20\n",
      "486/486 [==============================] - 32s 66ms/step - loss: 2.5370 - accuracy: 0.4255\n",
      "Epoch 3/20\n",
      "486/486 [==============================] - 31s 65ms/step - loss: 2.4885 - accuracy: 0.4320\n",
      "Epoch 4/20\n",
      "486/486 [==============================] - 30s 61ms/step - loss: 2.3803 - accuracy: 0.4454\n",
      "Epoch 5/20\n",
      "486/486 [==============================] - 30s 62ms/step - loss: 2.2850 - accuracy: 0.4668\n",
      "Epoch 6/20\n",
      "486/486 [==============================] - 34s 69ms/step - loss: 2.1961 - accuracy: 0.4802\n",
      "Epoch 7/20\n",
      "486/486 [==============================] - 31s 65ms/step - loss: 2.1920 - accuracy: 0.4800\n",
      "Epoch 8/20\n",
      "486/486 [==============================] - 31s 64ms/step - loss: 2.1066 - accuracy: 0.5005\n",
      "Epoch 9/20\n",
      "486/486 [==============================] - 31s 63ms/step - loss: 2.0770 - accuracy: 0.5042\n",
      "Epoch 10/20\n",
      "486/486 [==============================] - 30s 61ms/step - loss: 2.1134 - accuracy: 0.4978\n",
      "Epoch 11/20\n",
      "486/486 [==============================] - 31s 63ms/step - loss: 2.0768 - accuracy: 0.5010\n",
      "Epoch 12/20\n",
      "486/486 [==============================] - 29s 60ms/step - loss: 1.9869 - accuracy: 0.5220\n",
      "Epoch 13/20\n",
      "486/486 [==============================] - 30s 61ms/step - loss: 1.9485 - accuracy: 0.5302\n",
      "Epoch 14/20\n",
      "486/486 [==============================] - 31s 63ms/step - loss: 1.9440 - accuracy: 0.5269\n",
      "Epoch 15/20\n",
      "486/486 [==============================] - 30s 62ms/step - loss: 1.9187 - accuracy: 0.5335\n",
      "Epoch 16/20\n",
      "486/486 [==============================] - 32s 67ms/step - loss: 1.9280 - accuracy: 0.5354\n",
      "Epoch 17/20\n",
      "486/486 [==============================] - 31s 63ms/step - loss: 1.8686 - accuracy: 0.5427\n",
      "Epoch 18/20\n",
      "486/486 [==============================] - 31s 63ms/step - loss: 1.8355 - accuracy: 0.5484\n",
      "Epoch 19/20\n",
      "486/486 [==============================] - 30s 63ms/step - loss: 1.7826 - accuracy: 0.5588\n",
      "Epoch 20/20\n",
      "486/486 [==============================] - 30s 63ms/step - loss: 1.7916 - accuracy: 0.5589\n"
     ]
    }
   ],
   "source": [
    "history = reload_model.fit(input_sequences, one_hot_labels, epochs = 20, verbose=1)"
   ]
  },
  {
   "cell_type": "code",
   "execution_count": 151,
   "metadata": {},
   "outputs": [
    {
     "name": "stdout",
     "output_type": "stream",
     "text": [
      "rock_model_x1_2023-12-04_0324.h5\n"
     ]
    },
    {
     "name": "stderr",
     "output_type": "stream",
     "text": [
      "/home/moazzam99/.local/lib/python3.10/site-packages/keras/src/engine/training.py:3103: UserWarning: You are saving your model as an HDF5 file via `model.save()`. This file format is considered legacy. We recommend using instead the native Keras format, e.g. `model.save('my_model.keras')`.\n",
      "  saving_api.save_model(\n"
     ]
    }
   ],
   "source": [
    "model_name = \"rock_model_x1_\" + get_time() + \".h5\"\n",
    "model.save(model_name)\n",
    "print(model_name)"
   ]
  },
  {
   "cell_type": "code",
   "execution_count": 71,
   "metadata": {},
   "outputs": [
    {
     "name": "stdout",
     "output_type": "stream",
     "text": [
      "0.7902721166610718\n"
     ]
    },
    {
     "data": {
      "image/png": "[encoded data removed]",
      "text/plain": [
       "<Figure size 640x480 with 1 Axes>"
      ]
     },
     "metadata": {},
     "output_type": "display_data"
    }
   ],
   "source": [
    "import matplotlib.pyplot as plt\n",
    "accuracy = history.history['accuracy']\n",
    "print(accuracy[-1])\n",
    "# Plotting accuracy over epochs\n",
    "plt.plot(range(1, len(accuracy) + 1), accuracy)\n",
    "plt.title('Training Accuracy Over Epochs')\n",
    "plt.xlabel('Epochs')\n",
    "plt.ylabel('Accuracy')\n",
    "plt.show()"
   ]
  },
  {
   "cell_type": "code",
   "execution_count": 107,
   "metadata": {},
   "outputs": [
    {
     "name": "stdout",
     "output_type": "stream",
     "text": [
      "1/1 [==============================] - 0s 19ms/step\n",
      "1/1 [==============================] - 0s 17ms/step\n",
      "1/1 [==============================] - 0s 16ms/step\n",
      "1/1 [==============================] - 0s 15ms/step\n",
      "1/1 [==============================] - 0s 16ms/step\n",
      "1/1 [==============================] - 0s 17ms/step\n",
      "1/1 [==============================] - 0s 17ms/step\n",
      "1/1 [==============================] - 0s 15ms/step\n",
      "1/1 [==============================] - 0s 16ms/step\n",
      "1/1 [==============================] - 0s 16ms/step\n",
      "1/1 [==============================] - 0s 17ms/step\n",
      "1/1 [==============================] - 0s 15ms/step\n",
      "1/1 [==============================] - 0s 15ms/step\n",
      "1/1 [==============================] - 0s 16ms/step\n",
      "1/1 [==============================] - 0s 15ms/step\n",
      "1/1 [==============================] - 0s 15ms/step\n",
      "1/1 [==============================] - 0s 15ms/step\n",
      "1/1 [==============================] - 0s 19ms/step\n",
      "1/1 [==============================] - 0s 16ms/step\n",
      "1/1 [==============================] - 0s 16ms/step\n",
      "1/1 [==============================] - 0s 17ms/step\n",
      "1/1 [==============================] - 0s 18ms/step\n",
      "1/1 [==============================] - 0s 17ms/step\n",
      "1/1 [==============================] - 0s 17ms/step\n",
      "1/1 [==============================] - 0s 18ms/step\n",
      "1/1 [==============================] - 0s 18ms/step\n",
      "1/1 [==============================] - 0s 15ms/step\n",
      "1/1 [==============================] - 0s 16ms/step\n",
      "1/1 [==============================] - 0s 15ms/step\n",
      "1/1 [==============================] - 0s 17ms/step\n",
      "1/1 [==============================] - 0s 15ms/step\n",
      "1/1 [==============================] - 0s 16ms/step\n",
      "1/1 [==============================] - 0s 15ms/step\n",
      "1/1 [==============================] - 0s 18ms/step\n",
      "1/1 [==============================] - 0s 15ms/step\n",
      "1/1 [==============================] - 0s 18ms/step\n",
      "1/1 [==============================] - 0s 15ms/step\n",
      "1/1 [==============================] - 0s 17ms/step\n",
      "1/1 [==============================] - 0s 15ms/step\n",
      "1/1 [==============================] - 0s 17ms/step\n",
      "1/1 [==============================] - 0s 18ms/step\n",
      "1/1 [==============================] - 0s 19ms/step\n",
      "1/1 [==============================] - 0s 18ms/step\n",
      "1/1 [==============================] - 0s 17ms/step\n",
      "1/1 [==============================] - 0s 16ms/step\n",
      "1/1 [==============================] - 0s 16ms/step\n",
      "1/1 [==============================] - 0s 16ms/step\n",
      "1/1 [==============================] - 0s 16ms/step\n",
      "1/1 [==============================] - 0s 15ms/step\n",
      "1/1 [==============================] - 0s 16ms/step\n",
      "its beautiful pop shit life technically broke mother's court rapper like every touch ball could play play grabs well turn now gon' pop five ten i'm yeah yeah yeah yeah yeah yeah yeah yeah yeah yeah yeah yeah yeah yeah yeah yeah yeah yeah yeah yeah yeah yeah yeah yeah yeah yeah\n"
     ]
    }
   ],
   "source": [
    "# Use this process for the full output generation\n",
    "seed_text = \"its beautiful\"\n",
    "next_words = 50\n",
    "  \n",
    "for _ in range(next_words):\n",
    "  token_list = tokenizer.texts_to_sequences([seed_text])[0]\n",
    "  token_list = pad_sequences([token_list], maxlen=max_pad_len-1, padding='post')\n",
    "  predicted_probs = model.predict(token_list)[0]\n",
    "  predicted = np.random.choice([x for x in range(len(predicted_probs))],\n",
    "                               p=predicted_probs)\n",
    "  output_word = \"\"\n",
    "  for word, index in tokenizer.word_index.items():\n",
    "    if index == predicted:\n",
    "      output_word = word\n",
    "      break\n",
    "  seed_text += \" \" + output_word\n",
    "print(seed_text)"
   ]
  },
  {
   "cell_type": "code",
   "execution_count": 161,
   "metadata": {},
   "outputs": [
    {
     "name": "stdout",
     "output_type": "stream",
     "text": [
      "1/1 [==============================] - 0s 19ms/step\n",
      "1/1 [==============================] - 0s 17ms/step\n",
      "1/1 [==============================] - 0s 16ms/step\n",
      "1/1 [==============================] - 0s 18ms/step\n",
      "1/1 [==============================] - 0s 15ms/step\n",
      "1/1 [==============================] - 0s 16ms/step\n",
      "1/1 [==============================] - 0s 15ms/step\n",
      "1/1 [==============================] - 0s 17ms/step\n",
      "1/1 [==============================] - 0s 16ms/step\n",
      "1/1 [==============================] - 0s 18ms/step\n",
      "1/1 [==============================] - 0s 15ms/step\n",
      "1/1 [==============================] - 0s 16ms/step\n",
      "1/1 [==============================] - 0s 16ms/step\n",
      "1/1 [==============================] - 0s 17ms/step\n",
      "1/1 [==============================] - 0s 15ms/step\n",
      "1/1 [==============================] - 0s 17ms/step\n",
      "1/1 [==============================] - 0s 15ms/step\n",
      "1/1 [==============================] - 0s 17ms/step\n",
      "1/1 [==============================] - 0s 17ms/step\n",
      "1/1 [==============================] - 0s 16ms/step\n",
      "1/1 [==============================] - 0s 16ms/step\n",
      "1/1 [==============================] - 0s 15ms/step\n",
      "1/1 [==============================] - 0s 16ms/step\n",
      "1/1 [==============================] - 0s 15ms/step\n",
      "1/1 [==============================] - 0s 17ms/step\n",
      "1/1 [==============================] - 0s 16ms/step\n",
      "1/1 [==============================] - 0s 16ms/step\n",
      "1/1 [==============================] - 0s 16ms/step\n",
      "1/1 [==============================] - 0s 16ms/step\n",
      "1/1 [==============================] - 0s 18ms/step\n",
      "1/1 [==============================] - 0s 16ms/step\n",
      "1/1 [==============================] - 0s 15ms/step\n",
      "1/1 [==============================] - 0s 17ms/step\n",
      "1/1 [==============================] - 0s 23ms/step\n",
      "1/1 [==============================] - 0s 18ms/step\n",
      "1/1 [==============================] - 0s 16ms/step\n",
      "1/1 [==============================] - 0s 18ms/step\n",
      "1/1 [==============================] - 0s 16ms/step\n",
      "1/1 [==============================] - 0s 16ms/step\n",
      "1/1 [==============================] - 0s 15ms/step\n",
      "1/1 [==============================] - 0s 18ms/step\n",
      "1/1 [==============================] - 0s 15ms/step\n",
      "1/1 [==============================] - 0s 17ms/step\n",
      "1/1 [==============================] - 0s 16ms/step\n",
      "1/1 [==============================] - 0s 16ms/step\n",
      "1/1 [==============================] - 0s 16ms/step\n",
      "1/1 [==============================] - 0s 15ms/step\n",
      "1/1 [==============================] - 0s 15ms/step\n",
      "1/1 [==============================] - 0s 16ms/step\n",
      "1/1 [==============================] - 0s 16ms/step\n",
      "here we go falling love i'm love one around i'm you i'm goes inside i'm feel go i'm space oh love\n"
     ]
    }
   ],
   "source": [
    "import numpy as np\n",
    "\n",
    "def generate_text_with_temperature(seed_text, model, tokenizer, max_pad_len, next_words=50, temperature=0.9):\n",
    "    generated_text = seed_text.lower()  # Convert to lowercase for case-insensitive comparison\n",
    "  \n",
    "    for _ in range(next_words):\n",
    "        token_list = tokenizer.texts_to_sequences([generated_text])[0]\n",
    "        token_list = pad_sequences([token_list], maxlen=max_pad_len-1, padding='post')\n",
    "        \n",
    "        predicted_probs = model.predict(token_list)[0]\n",
    "        predicted_probs = np.log(predicted_probs) / temperature\n",
    "        exp_preds = np.exp(predicted_probs)\n",
    "        predicted_probs = exp_preds / np.sum(exp_preds)\n",
    "\n",
    "        predicted_id = np.random.choice(len(predicted_probs), 1, p=predicted_probs)[0]\n",
    "\n",
    "        output_word = tokenizer.index_word.get(predicted_id, \"\").lower()\n",
    "\n",
    "        # Check if the word is not the same as the last word in the generated text\n",
    "        if output_word != generated_text.split()[-1]:\n",
    "            generated_text += \" \" + output_word\n",
    "\n",
    "        if output_word == '<end>':\n",
    "            break\n",
    "\n",
    "    return generated_text\n",
    "\n",
    "# Example usage:\n",
    "seed_text = \"here we go\"\n",
    "generated_text = generate_text_with_temperature(seed_text, model, tokenizer, max_pad_len, next_words=50, temperature=0.9)\n",
    "print(generated_text)\n"
   ]
  },
  {
   "cell_type": "code",
   "execution_count": 86,
   "metadata": {},
   "outputs": [
    {
     "data": {
      "text/plain": [
       "50"
      ]
     },
     "execution_count": 86,
     "metadata": {},
     "output_type": "execute_result"
    }
   ],
   "source": [
    "len(generated_text.split())"
   ]
  }
 ],
 "metadata": {
  "kernelspec": {
   "display_name": "Python 3",
   "language": "python",
   "name": "python3"
  },
  "language_info": {
   "codemirror_mode": {
    "name": "ipython",
    "version": 3
   },
   "file_extension": ".py",
   "mimetype": "text/x-python",
   "name": "python",
   "nbconvert_exporter": "python",
   "pygments_lexer": "ipython3",
   "version": "3.10.6"
  }
 },
 "nbformat": 4,
 "nbformat_minor": 2
}
